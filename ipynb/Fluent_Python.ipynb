{
  "nbformat": 4,
  "nbformat_minor": 0,
  "metadata": {
    "colab": {
      "name": "Fluent Python.ipynb",
      "version": "0.3.2",
      "provenance": [],
      "collapsed_sections": [],
      "toc_visible": true
    },
    "kernelspec": {
      "name": "python3",
      "display_name": "Python 3"
    }
  },
  "cells": [
    {
      "cell_type": "markdown",
      "metadata": {
        "id": "A-oL9cyZGf7i",
        "colab_type": "text"
      },
      "source": [
        "Fluent Python"
      ]
    },
    {
      "cell_type": "markdown",
      "metadata": {
        "id": "ra59prrTGg1h",
        "colab_type": "text"
      },
      "source": [
        "# 第二部分 数据结构\n",
        "## 2.8 用bisect来管理已排序的序列\n",
        "\n",
        "\n",
        "\n"
      ]
    },
    {
      "cell_type": "code",
      "metadata": {
        "id": "dt5LZKGzG7mN",
        "colab_type": "code",
        "outputId": "56999707-b271-4368-d410-72c1304da925",
        "colab": {
          "base_uri": "https://localhost:8080/",
          "height": 51
        }
      },
      "source": [
        "import bisect\n",
        "import sys\n",
        "\n",
        "HAYSTACK=[1,4,5,23,23,26,29,30]\n",
        "postion=bisect.bisect(HAYSTACK, 23)\n",
        "print(postion)\n",
        "postion=bisect.bisect_left(HAYSTACK, 23)\n",
        "print(postion)"
      ],
      "execution_count": 0,
      "outputs": [
        {
          "output_type": "stream",
          "text": [
            "5\n",
            "3\n"
          ],
          "name": "stdout"
        }
      ]
    },
    {
      "cell_type": "code",
      "metadata": {
        "id": "8BfTnuScHTln",
        "colab_type": "code",
        "outputId": "3f4c8e09-dbb9-446c-d9db-d0769cff4b2c",
        "colab": {
          "base_uri": "https://localhost:8080/",
          "height": 34
        }
      },
      "source": [
        "import bisect\n",
        "import sys\n",
        "\n",
        "my_list=[1,4,5,26,29,30]\n",
        "bisect.insort(my_list, 23)\n",
        "print(my_list)"
      ],
      "execution_count": 0,
      "outputs": [
        {
          "output_type": "stream",
          "text": [
            "[1, 4, 5, 23, 26, 29, 30]\n"
          ],
          "name": "stdout"
        }
      ]
    },
    {
      "cell_type": "markdown",
      "metadata": {
        "id": "wA97luguaA2r",
        "colab_type": "text"
      },
      "source": [
        "## 2.9 当列表不是首选时"
      ]
    },
    {
      "cell_type": "code",
      "metadata": {
        "id": "uH_S9SJXZHdt",
        "colab_type": "code",
        "outputId": "d3c8b2f9-87a4-4972-a26a-1e54a0f2d79e",
        "colab": {
          "base_uri": "https://localhost:8080/",
          "height": 34
        }
      },
      "source": [
        "from array import array\n",
        "from random import random \n",
        "floats=array('d', (random() for i in range(10**7)))\n",
        "floats[-1]"
      ],
      "execution_count": 0,
      "outputs": [
        {
          "output_type": "execute_result",
          "data": {
            "text/plain": [
              "0.06586627504161835"
            ]
          },
          "metadata": {
            "tags": []
          },
          "execution_count": 10
        }
      ]
    },
    {
      "cell_type": "code",
      "metadata": {
        "id": "jo7we-WPaZKZ",
        "colab_type": "code",
        "colab": {}
      },
      "source": [
        ""
      ],
      "execution_count": 0,
      "outputs": []
    }
  ]
}